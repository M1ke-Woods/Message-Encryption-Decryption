{
 "cells": [
  {
   "cell_type": "code",
   "execution_count": 1,
   "metadata": {},
   "outputs": [],
   "source": [
    "def cipher_to_letter(number):\n",
    "    a = number ** 2147\n",
    "    b = a % 3337\n",
    "    return b"
   ]
  },
  {
   "cell_type": "code",
   "execution_count": 2,
   "metadata": {},
   "outputs": [],
   "source": [
    "decode = {\n",
    "    1:'a',\n",
    "    2:'b',\n",
    "    3:'c',\n",
    "    4:'d',\n",
    "    5:'e',\n",
    "    6:'f',\n",
    "    7:'g',\n",
    "    8:'h',\n",
    "    9:'i',\n",
    "    10:'j',\n",
    "    11:'k',\n",
    "    12:'l',\n",
    "    13:'m',\n",
    "    14:'n',\n",
    "    15:'o',\n",
    "    16:'p',\n",
    "    17:'q',\n",
    "    18:'r',\n",
    "    19:'s',\n",
    "    20:'t',\n",
    "    21:'u',\n",
    "    22:'v',\n",
    "    23:'w',\n",
    "    24:'x',\n",
    "    25:'y',\n",
    "    26:'z',\n",
    "    27:' ',\n",
    "    28:'A',\n",
    "    29:'B',\n",
    "    30:'C',\n",
    "    31:'D',\n",
    "    32:'E',\n",
    "    33:'F',\n",
    "    34:'G',\n",
    "    35:'H',\n",
    "    36:'I',\n",
    "    37:'J',\n",
    "    38:'K',\n",
    "    39:'L',\n",
    "    40:'M',\n",
    "    41:'N',\n",
    "    42:'O',\n",
    "    43:'P',\n",
    "    44:'Q',\n",
    "    45:'R',\n",
    "    46:'S',\n",
    "    47:'T',\n",
    "    48:'U',\n",
    "    49:'V',\n",
    "    50:'W',\n",
    "    51:'X',\n",
    "    52:'Y',\n",
    "    53:'Z',\n",
    "    54:'.',\n",
    "}"
   ]
  },
  {
   "cell_type": "code",
   "execution_count": 3,
   "metadata": {},
   "outputs": [
    {
     "name": "stdout",
     "output_type": "stream",
     "text": [
      "cipher2831, 125, 1728, 1728, 38, 2998, 216, 2495, 38, 2197, 2998, 8, 125, 2277, 38, 2744, 64\n"
     ]
    }
   ],
   "source": [
    "user_input = input('cipher')\n",
    "cipher_list = user_input.split(',')\n",
    "x = []\n",
    "for row in cipher_list:\n",
    "    x.append(row.replace(' ', ''))"
   ]
  },
  {
   "cell_type": "code",
   "execution_count": 4,
   "metadata": {},
   "outputs": [],
   "source": [
    "decrypted_text = []\n",
    "for row in x:\n",
    "    b = cipher_to_letter(int(row)) #first turns 'm' into an integer type then runs it into the cipher to letter function\n",
    "    c = decode[b]\n",
    "    d = decrypted_text.append(c)"
   ]
  },
  {
   "cell_type": "code",
   "execution_count": 5,
   "metadata": {},
   "outputs": [],
   "source": [
    "result = ''.join(decrypted_text)"
   ]
  },
  {
   "cell_type": "code",
   "execution_count": 6,
   "metadata": {},
   "outputs": [
    {
     "name": "stdout",
     "output_type": "stream",
     "text": [
      "Hello from beyond\n"
     ]
    }
   ],
   "source": [
    "print(result)"
   ]
  },
  {
   "cell_type": "code",
   "execution_count": null,
   "metadata": {},
   "outputs": [],
   "source": []
  }
 ],
 "metadata": {
  "kernelspec": {
   "display_name": "Python 3",
   "language": "python",
   "name": "python3"
  },
  "language_info": {
   "codemirror_mode": {
    "name": "ipython",
    "version": 3
   },
   "file_extension": ".py",
   "mimetype": "text/x-python",
   "name": "python",
   "nbconvert_exporter": "python",
   "pygments_lexer": "ipython3",
   "version": "3.8.8"
  }
 },
 "nbformat": 4,
 "nbformat_minor": 2
}
