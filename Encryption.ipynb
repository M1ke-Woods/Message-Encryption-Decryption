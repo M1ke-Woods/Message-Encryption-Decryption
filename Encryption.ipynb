{
 "cells": [
  {
   "cell_type": "code",
   "execution_count": 2,
   "metadata": {},
   "outputs": [],
   "source": [
    "def letter_to_cipher(number):\n",
    "    x = number ** 3\n",
    "    y = x % 3337\n",
    "    return y"
   ]
  },
  {
   "cell_type": "code",
   "execution_count": 3,
   "metadata": {},
   "outputs": [],
   "source": [
    "encode = {\n",
    "    'a':letter_to_cipher(1),\n",
    "    'b':letter_to_cipher(2),\n",
    "    'c':letter_to_cipher(3),\n",
    "    'd':letter_to_cipher(4),\n",
    "    'e':letter_to_cipher(5),\n",
    "    'f':letter_to_cipher(6),\n",
    "    'g':letter_to_cipher(7),\n",
    "    'h':letter_to_cipher(8),\n",
    "    'i':letter_to_cipher(9),\n",
    "    'j':letter_to_cipher(10),\n",
    "    'k':letter_to_cipher(11),\n",
    "    'l':letter_to_cipher(12),\n",
    "    'm':letter_to_cipher(13),\n",
    "    'n':letter_to_cipher(14),\n",
    "    'o':letter_to_cipher(15),\n",
    "    'p':letter_to_cipher(16),\n",
    "    'q':letter_to_cipher(17),\n",
    "    'r':letter_to_cipher(18),\n",
    "    's':letter_to_cipher(19),\n",
    "    't':letter_to_cipher(20),\n",
    "    'u':letter_to_cipher(21),\n",
    "    'v':letter_to_cipher(22),\n",
    "    'w':letter_to_cipher(23),\n",
    "    'x':letter_to_cipher(24),\n",
    "    'y':letter_to_cipher(25),\n",
    "    'z':letter_to_cipher(26),\n",
    "    ' ':letter_to_cipher(27),\n",
    "    'A':letter_to_cipher(28),\n",
    "    'B':letter_to_cipher(29),\n",
    "    'C':letter_to_cipher(30),\n",
    "    'D':letter_to_cipher(31),\n",
    "    'E':letter_to_cipher(32),\n",
    "    'F':letter_to_cipher(33),\n",
    "    'G':letter_to_cipher(34),\n",
    "    'H':letter_to_cipher(35),\n",
    "    'I':letter_to_cipher(36),\n",
    "    'J':letter_to_cipher(37),\n",
    "    'K':letter_to_cipher(38),\n",
    "    'L':letter_to_cipher(39),\n",
    "    'M':letter_to_cipher(40),\n",
    "    'N':letter_to_cipher(41),\n",
    "    'O':letter_to_cipher(42),\n",
    "    'P':letter_to_cipher(43),\n",
    "    'Q':letter_to_cipher(44),\n",
    "    'R':letter_to_cipher(45),\n",
    "    'S':letter_to_cipher(46),\n",
    "    'T':letter_to_cipher(47),\n",
    "    'U':letter_to_cipher(48),\n",
    "    'V':letter_to_cipher(49),\n",
    "    'W':letter_to_cipher(50),\n",
    "    'X':letter_to_cipher(51),\n",
    "    'Y':letter_to_cipher(52),\n",
    "    'Z':letter_to_cipher(53),\n",
    "    '.':letter_to_cipher(54),\n",
    "}"
   ]
  },
  {
   "cell_type": "code",
   "execution_count": 4,
   "metadata": {},
   "outputs": [
    {
     "name": "stdout",
     "output_type": "stream",
     "text": [
      "text to be encryptedHello from beyond\n",
      "[2831, 125, 1728, 1728, 38, 2998, 216, 2495, 38, 2197, 2998, 8, 125, 2277, 38, 2744, 64]\n"
     ]
    }
   ],
   "source": [
    "input_text = input('text to be encrypted') #The string input needs to be all lowercase with no punctuation\n",
    "pre_converted_text = [] \n",
    "for letter in input_text: # This coverts every letter of the string input into a numberical value\n",
    "    pre_converted_text.append(encode[letter])\n",
    "    converted_text = pre_converted_text[-1]\n",
    "print(pre_converted_text)"
   ]
  },
  {
   "cell_type": "code",
   "execution_count": null,
   "metadata": {},
   "outputs": [],
   "source": []
  }
 ],
 "metadata": {
  "kernelspec": {
   "display_name": "Python 3",
   "language": "python",
   "name": "python3"
  },
  "language_info": {
   "codemirror_mode": {
    "name": "ipython",
    "version": 3
   },
   "file_extension": ".py",
   "mimetype": "text/x-python",
   "name": "python",
   "nbconvert_exporter": "python",
   "pygments_lexer": "ipython3",
   "version": "3.8.8"
  }
 },
 "nbformat": 4,
 "nbformat_minor": 2
}
